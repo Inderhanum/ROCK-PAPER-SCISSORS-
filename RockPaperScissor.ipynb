{
 "cells": [
  {
   "cell_type": "code",
   "execution_count": 1,
   "id": "f8b8f94e",
   "metadata": {},
   "outputs": [],
   "source": [
    "import random"
   ]
  },
  {
   "cell_type": "code",
   "execution_count": 4,
   "id": "0a786845",
   "metadata": {},
   "outputs": [],
   "source": [
    "def get_user_choice():\n",
    "    user_choice = input(\"Enter Rock, Paper, or Scissors: \").capitalize()\n",
    "    while user_choice not in ['Rock', 'Paper', 'Scissors']:\n",
    "        print(\"Invalid choice. Please enter Rock, Paper, or Scissors.\")\n",
    "        user_choice = input(\"Enter Rock, Paper, or Scissors: \").capitalize()\n",
    "    return user_choice\n",
    "\n",
    "def get_computer_choice():\n",
    "    return random.choice(['Rock', 'Paper', 'Scissors'])\n",
    "\n",
    "def determine_winner(user_choice, computer_choice):\n",
    "    print(f\"You chose {user_choice}\")\n",
    "    print(f\"Computer chose {computer_choice}\")\n",
    "\n",
    "    if user_choice == computer_choice:\n",
    "        return \"It's a tie!\"\n",
    "    elif (\n",
    "        (user_choice == 'Rock' and computer_choice == 'Scissors') or\n",
    "        (user_choice == 'Paper' and computer_choice == 'Rock') or\n",
    "        (user_choice == 'Scissors' and computer_choice == 'Paper')\n",
    "    ):\n",
    "        return \"You win!\"\n",
    "    else:\n",
    "        return \"You lose!\"\n",
    "\n",
    "def play_game():\n",
    "    print(\"Welcome to Rock, Paper, Scissors!\")\n",
    "    user_choice = get_user_choice()\n",
    "    computer_choice = get_computer_choice()\n",
    "    result = determine_winner(user_choice, computer_choice)\n",
    "    print(result)\n",
    "\n"
   ]
  },
  {
   "cell_type": "code",
   "execution_count": 5,
   "id": "6ebb7fca",
   "metadata": {},
   "outputs": [
    {
     "name": "stdout",
     "output_type": "stream",
     "text": [
      "Welcome to Rock, Paper, Scissors!\n",
      "You chose Rock\n",
      "Computer chose Scissors\n",
      "You win!\n"
     ]
    }
   ],
   "source": [
    "play_game()\n"
   ]
  },
  {
   "cell_type": "code",
   "execution_count": null,
   "id": "5d2ed913",
   "metadata": {},
   "outputs": [],
   "source": []
  }
 ],
 "metadata": {
  "kernelspec": {
   "display_name": "Python 3 (ipykernel)",
   "language": "python",
   "name": "python3"
  },
  "language_info": {
   "codemirror_mode": {
    "name": "ipython",
    "version": 3
   },
   "file_extension": ".py",
   "mimetype": "text/x-python",
   "name": "python",
   "nbconvert_exporter": "python",
   "pygments_lexer": "ipython3",
   "version": "3.12.2"
  }
 },
 "nbformat": 4,
 "nbformat_minor": 5
}
